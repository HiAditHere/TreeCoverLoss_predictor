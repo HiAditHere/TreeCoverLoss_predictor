{
 "cells": [
  {
   "cell_type": "markdown",
   "id": "7e8bd578",
   "metadata": {},
   "source": [
    "# Tree Cover Loss Prediction"
   ]
  },
  {
   "cell_type": "code",
   "execution_count": 1,
   "id": "c3c9301e",
   "metadata": {},
   "outputs": [],
   "source": [
    "import pandas as pd\n",
    "from sklearn.model_selection import train_test_split\n",
    "from sklearn import preprocessing\n",
    "from sklearn.linear_model import LinearRegression\n",
    "import numpy as np\n",
    "\n",
    "import pickle"
   ]
  },
  {
   "cell_type": "code",
   "execution_count": 2,
   "id": "6b98f8c5",
   "metadata": {},
   "outputs": [
    {
     "data": {
      "text/html": [
       "<div>\n",
       "<style scoped>\n",
       "    .dataframe tbody tr th:only-of-type {\n",
       "        vertical-align: middle;\n",
       "    }\n",
       "\n",
       "    .dataframe tbody tr th {\n",
       "        vertical-align: top;\n",
       "    }\n",
       "\n",
       "    .dataframe thead th {\n",
       "        text-align: right;\n",
       "    }\n",
       "</style>\n",
       "<table border=\"1\" class=\"dataframe\">\n",
       "  <thead>\n",
       "    <tr style=\"text-align: right;\">\n",
       "      <th></th>\n",
       "      <th>CountryCode</th>\n",
       "      <th>Year</th>\n",
       "      <th>TreeCoverLoss_ha</th>\n",
       "      <th>GrossEmissions_Co2_all_gases_Mg</th>\n",
       "    </tr>\n",
       "  </thead>\n",
       "  <tbody>\n",
       "    <tr>\n",
       "      <th>0</th>\n",
       "      <td>AGO</td>\n",
       "      <td>2001</td>\n",
       "      <td>4957.597965</td>\n",
       "      <td>3.021078e+06</td>\n",
       "    </tr>\n",
       "    <tr>\n",
       "      <th>1</th>\n",
       "      <td>ARG</td>\n",
       "      <td>2001</td>\n",
       "      <td>5979.947498</td>\n",
       "      <td>2.253298e+06</td>\n",
       "    </tr>\n",
       "    <tr>\n",
       "      <th>2</th>\n",
       "      <td>AUS</td>\n",
       "      <td>2001</td>\n",
       "      <td>0.075922</td>\n",
       "      <td>2.885012e+01</td>\n",
       "    </tr>\n",
       "    <tr>\n",
       "      <th>3</th>\n",
       "      <td>BDI</td>\n",
       "      <td>2001</td>\n",
       "      <td>6.222930</td>\n",
       "      <td>3.288072e+03</td>\n",
       "    </tr>\n",
       "    <tr>\n",
       "      <th>4</th>\n",
       "      <td>BES</td>\n",
       "      <td>2001</td>\n",
       "      <td>0.146932</td>\n",
       "      <td>6.125723e+01</td>\n",
       "    </tr>\n",
       "  </tbody>\n",
       "</table>\n",
       "</div>"
      ],
      "text/plain": [
       "  CountryCode  Year  TreeCoverLoss_ha  GrossEmissions_Co2_all_gases_Mg\n",
       "0         AGO  2001       4957.597965                     3.021078e+06\n",
       "1         ARG  2001       5979.947498                     2.253298e+06\n",
       "2         AUS  2001          0.075922                     2.885012e+01\n",
       "3         BDI  2001          6.222930                     3.288072e+03\n",
       "4         BES  2001          0.146932                     6.125723e+01"
      ]
     },
     "execution_count": 2,
     "metadata": {},
     "output_type": "execute_result"
    }
   ],
   "source": [
    "df = pd.read_csv('Datasets/TreeCoverLoss2001-2020.csv')\n",
    "df.head()"
   ]
  },
  {
   "cell_type": "code",
   "execution_count": 3,
   "id": "9e286c5b",
   "metadata": {},
   "outputs": [
    {
     "data": {
      "text/html": [
       "<div>\n",
       "<style scoped>\n",
       "    .dataframe tbody tr th:only-of-type {\n",
       "        vertical-align: middle;\n",
       "    }\n",
       "\n",
       "    .dataframe tbody tr th {\n",
       "        vertical-align: top;\n",
       "    }\n",
       "\n",
       "    .dataframe thead th {\n",
       "        text-align: right;\n",
       "    }\n",
       "</style>\n",
       "<table border=\"1\" class=\"dataframe\">\n",
       "  <thead>\n",
       "    <tr style=\"text-align: right;\">\n",
       "      <th></th>\n",
       "      <th>Year</th>\n",
       "      <th>TreeCoverLoss_ha</th>\n",
       "      <th>GrossEmissions_Co2_all_gases_Mg</th>\n",
       "    </tr>\n",
       "  </thead>\n",
       "  <tbody>\n",
       "    <tr>\n",
       "      <th>count</th>\n",
       "      <td>1863.000000</td>\n",
       "      <td>1.863000e+03</td>\n",
       "      <td>1.863000e+03</td>\n",
       "    </tr>\n",
       "    <tr>\n",
       "      <th>mean</th>\n",
       "      <td>2010.435856</td>\n",
       "      <td>3.524133e+04</td>\n",
       "      <td>2.342182e+07</td>\n",
       "    </tr>\n",
       "    <tr>\n",
       "      <th>std</th>\n",
       "      <td>5.750640</td>\n",
       "      <td>1.628518e+05</td>\n",
       "      <td>1.081038e+08</td>\n",
       "    </tr>\n",
       "    <tr>\n",
       "      <th>min</th>\n",
       "      <td>2001.000000</td>\n",
       "      <td>7.307871e-02</td>\n",
       "      <td>0.000000e+00</td>\n",
       "    </tr>\n",
       "    <tr>\n",
       "      <th>25%</th>\n",
       "      <td>2005.000000</td>\n",
       "      <td>2.548204e+01</td>\n",
       "      <td>1.330461e+04</td>\n",
       "    </tr>\n",
       "    <tr>\n",
       "      <th>50%</th>\n",
       "      <td>2010.000000</td>\n",
       "      <td>1.144897e+03</td>\n",
       "      <td>6.297073e+05</td>\n",
       "    </tr>\n",
       "    <tr>\n",
       "      <th>75%</th>\n",
       "      <td>2015.000000</td>\n",
       "      <td>1.335366e+04</td>\n",
       "      <td>7.586048e+06</td>\n",
       "    </tr>\n",
       "    <tr>\n",
       "      <th>max</th>\n",
       "      <td>2020.000000</td>\n",
       "      <td>2.830977e+06</td>\n",
       "      <td>1.820993e+09</td>\n",
       "    </tr>\n",
       "  </tbody>\n",
       "</table>\n",
       "</div>"
      ],
      "text/plain": [
       "              Year  TreeCoverLoss_ha  GrossEmissions_Co2_all_gases_Mg\n",
       "count  1863.000000      1.863000e+03                     1.863000e+03\n",
       "mean   2010.435856      3.524133e+04                     2.342182e+07\n",
       "std       5.750640      1.628518e+05                     1.081038e+08\n",
       "min    2001.000000      7.307871e-02                     0.000000e+00\n",
       "25%    2005.000000      2.548204e+01                     1.330461e+04\n",
       "50%    2010.000000      1.144897e+03                     6.297073e+05\n",
       "75%    2015.000000      1.335366e+04                     7.586048e+06\n",
       "max    2020.000000      2.830977e+06                     1.820993e+09"
      ]
     },
     "execution_count": 3,
     "metadata": {},
     "output_type": "execute_result"
    }
   ],
   "source": [
    "df.describe()"
   ]
  },
  {
   "cell_type": "code",
   "execution_count": 4,
   "id": "d4e600e8",
   "metadata": {},
   "outputs": [
    {
     "data": {
      "text/plain": [
       "CountryCode                        0\n",
       "Year                               0\n",
       "TreeCoverLoss_ha                   0\n",
       "GrossEmissions_Co2_all_gases_Mg    0\n",
       "dtype: int64"
      ]
     },
     "execution_count": 4,
     "metadata": {},
     "output_type": "execute_result"
    }
   ],
   "source": [
    "df.isnull().sum()"
   ]
  },
  {
   "cell_type": "markdown",
   "id": "7364c284",
   "metadata": {},
   "source": [
    "The data seems to be fine. There are no NaN values."
   ]
  },
  {
   "cell_type": "code",
   "execution_count": 5,
   "id": "4e6f4abd",
   "metadata": {},
   "outputs": [
    {
     "data": {
      "text/plain": [
       "(1863, 4)"
      ]
     },
     "execution_count": 5,
     "metadata": {},
     "output_type": "execute_result"
    }
   ],
   "source": [
    "df.shape"
   ]
  },
  {
   "cell_type": "code",
   "execution_count": 6,
   "id": "287d280c",
   "metadata": {},
   "outputs": [
    {
     "data": {
      "text/plain": [
       "array(['AGO', 'ARG', 'AUS', 'BDI', 'BES', 'BGD', 'BHS', 'BLZ', 'BOL',\n",
       "       'BRA', 'BRN', 'BTN', 'CAF', 'CHN', 'CIV', 'CMR', 'COD', 'COG',\n",
       "       'COL', 'COM', 'CRI', 'CUB', 'CYM', 'DMA', 'DOM', 'ECU', 'ETH',\n",
       "       'FJI', 'GAB', 'GHA', 'GIN', 'GLP', 'GNB', 'GNQ', 'GTM', 'GUF',\n",
       "       'GUY', 'HND', 'HTI', 'IDN', 'IND', 'JAM', 'KEN', 'KHM', 'KNA',\n",
       "       'LAO', 'LBR', 'LCA', 'LKA', 'MAF', 'MDG', 'MDV', 'MEX', 'MMR',\n",
       "       'MOZ', 'MSR', 'MTQ', 'MWI', 'MYS', 'NGA', 'NIC', 'NPL', 'PAN',\n",
       "       'PER', 'PHL', 'PLW', 'PNG', 'PRI', 'PRY', 'RWA', 'SLB', 'SLE',\n",
       "       'SLV', 'SSD', 'SUR', 'SXM', 'TCA', 'TGO', 'THA', 'TTO', 'TWN',\n",
       "       'TZA', 'UGA', 'USA', 'VCT', 'VEN', 'VGB', 'VIR', 'VNM', 'VUT',\n",
       "       'ZAF', 'ZMB', 'ZWE', 'BEN', 'SEN', 'SGP', 'UMI', 'ABW', 'ATG'],\n",
       "      dtype=object)"
      ]
     },
     "execution_count": 6,
     "metadata": {},
     "output_type": "execute_result"
    }
   ],
   "source": [
    "df['CountryCode'].unique()"
   ]
  },
  {
   "cell_type": "markdown",
   "id": "4b811a8d",
   "metadata": {},
   "source": [
    "#### Using Label Encoder for the Countrys' "
   ]
  },
  {
   "cell_type": "code",
   "execution_count": 7,
   "id": "e38edc9a",
   "metadata": {},
   "outputs": [
    {
     "data": {
      "text/plain": [
       "0        1\n",
       "1        2\n",
       "2        4\n",
       "3        5\n",
       "4        7\n",
       "        ..\n",
       "1858    94\n",
       "1859    95\n",
       "1860    96\n",
       "1861    97\n",
       "1862    98\n",
       "Name: Country, Length: 1863, dtype: int32"
      ]
     },
     "execution_count": 7,
     "metadata": {},
     "output_type": "execute_result"
    }
   ],
   "source": [
    "le = preprocessing.LabelEncoder()\n",
    "df['Country'] = le.fit_transform(df['CountryCode'])\n",
    "df['Country']"
   ]
  },
  {
   "cell_type": "code",
   "execution_count": 8,
   "id": "7e569d61",
   "metadata": {},
   "outputs": [],
   "source": [
    "X = df[['Country', 'Year', 'GrossEmissions_Co2_all_gases_Mg']]\n",
    "y = df['TreeCoverLoss_ha']"
   ]
  },
  {
   "cell_type": "markdown",
   "id": "b5fef453",
   "metadata": {},
   "source": [
    "## Using Random Forest Regressor to find Feature Importances"
   ]
  },
  {
   "cell_type": "code",
   "execution_count": 10,
   "id": "d53bd109",
   "metadata": {},
   "outputs": [
    {
     "data": {
      "text/plain": [
       "array([0.00436026, 0.00493036, 0.99070938])"
      ]
     },
     "execution_count": 10,
     "metadata": {},
     "output_type": "execute_result"
    }
   ],
   "source": [
    "from sklearn.ensemble import RandomForestRegressor\n",
    "\n",
    "rf = RandomForestRegressor().fit(X,y)\n",
    "rf.feature_importances_"
   ]
  },
  {
   "cell_type": "markdown",
   "id": "385d78d6",
   "metadata": {},
   "source": [
    "We can see that Country and Year play no significant role while predicting the Tree Cover loss.\n",
    "So I decided to exclude them while I trained the model."
   ]
  },
  {
   "cell_type": "code",
   "execution_count": 11,
   "id": "4a686f1a",
   "metadata": {},
   "outputs": [],
   "source": [
    "#X = df[['Country', 'Year', 'TreeCoverLoss_ha']]\n",
    "X = df[['GrossEmissions_Co2_all_gases_Mg']]\n",
    "#X = df[['Country', 'Year', 'GrossEmissions_Co2_all_gases_Mg']]\n",
    "y = df['TreeCoverLoss_ha']"
   ]
  },
  {
   "cell_type": "code",
   "execution_count": 12,
   "id": "741b0820",
   "metadata": {},
   "outputs": [
    {
     "data": {
      "text/html": [
       "<div>\n",
       "<style scoped>\n",
       "    .dataframe tbody tr th:only-of-type {\n",
       "        vertical-align: middle;\n",
       "    }\n",
       "\n",
       "    .dataframe tbody tr th {\n",
       "        vertical-align: top;\n",
       "    }\n",
       "\n",
       "    .dataframe thead th {\n",
       "        text-align: right;\n",
       "    }\n",
       "</style>\n",
       "<table border=\"1\" class=\"dataframe\">\n",
       "  <thead>\n",
       "    <tr style=\"text-align: right;\">\n",
       "      <th></th>\n",
       "      <th>GrossEmissions_Co2_all_gases_Mg</th>\n",
       "    </tr>\n",
       "  </thead>\n",
       "  <tbody>\n",
       "    <tr>\n",
       "      <th>0</th>\n",
       "      <td>3.021078e+06</td>\n",
       "    </tr>\n",
       "    <tr>\n",
       "      <th>1</th>\n",
       "      <td>2.253298e+06</td>\n",
       "    </tr>\n",
       "    <tr>\n",
       "      <th>2</th>\n",
       "      <td>2.885012e+01</td>\n",
       "    </tr>\n",
       "    <tr>\n",
       "      <th>3</th>\n",
       "      <td>3.288072e+03</td>\n",
       "    </tr>\n",
       "    <tr>\n",
       "      <th>4</th>\n",
       "      <td>6.125723e+01</td>\n",
       "    </tr>\n",
       "  </tbody>\n",
       "</table>\n",
       "</div>"
      ],
      "text/plain": [
       "   GrossEmissions_Co2_all_gases_Mg\n",
       "0                     3.021078e+06\n",
       "1                     2.253298e+06\n",
       "2                     2.885012e+01\n",
       "3                     3.288072e+03\n",
       "4                     6.125723e+01"
      ]
     },
     "execution_count": 12,
     "metadata": {},
     "output_type": "execute_result"
    }
   ],
   "source": [
    "X.head()"
   ]
  },
  {
   "cell_type": "code",
   "execution_count": 13,
   "id": "3b966060",
   "metadata": {},
   "outputs": [
    {
     "data": {
      "text/plain": [
       "0    4957.597965\n",
       "1    5979.947498\n",
       "2       0.075922\n",
       "3       6.222930\n",
       "4       0.146932\n",
       "Name: TreeCoverLoss_ha, dtype: float64"
      ]
     },
     "execution_count": 13,
     "metadata": {},
     "output_type": "execute_result"
    }
   ],
   "source": [
    "y.head()"
   ]
  },
  {
   "cell_type": "code",
   "execution_count": 21,
   "id": "52f62fbd",
   "metadata": {},
   "outputs": [],
   "source": [
    "X_train, X_test, y_train, y_test = train_test_split(X, y, test_size = 0.2)"
   ]
  },
  {
   "cell_type": "markdown",
   "id": "a5213f9b",
   "metadata": {},
   "source": [
    "### Training an ML model"
   ]
  },
  {
   "cell_type": "code",
   "execution_count": 22,
   "id": "7bb8bd64",
   "metadata": {},
   "outputs": [
    {
     "data": {
      "text/plain": [
       "0.9904836059556512"
      ]
     },
     "execution_count": 22,
     "metadata": {},
     "output_type": "execute_result"
    }
   ],
   "source": [
    "clf = LinearRegression()\n",
    "clf.fit(X_train, y_train)\n",
    "clf.score(X_test, y_test)"
   ]
  },
  {
   "cell_type": "markdown",
   "id": "1945d4bd",
   "metadata": {},
   "source": [
    "Classic Linear Regression prediction problem"
   ]
  },
  {
   "cell_type": "markdown",
   "id": "95f6afeb",
   "metadata": {},
   "source": [
    "#### Saving the classifier in a pickle file for later use"
   ]
  },
  {
   "cell_type": "code",
   "execution_count": 23,
   "id": "efc42569",
   "metadata": {},
   "outputs": [],
   "source": [
    "with open ('clf1.pkl', 'wb') as f:\n",
    "    pickle.dump(clf, f)"
   ]
  },
  {
   "cell_type": "code",
   "execution_count": 24,
   "id": "d5b5935d",
   "metadata": {},
   "outputs": [
    {
     "data": {
      "text/plain": [
       "array([275.84677346])"
      ]
     },
     "execution_count": 24,
     "metadata": {},
     "output_type": "execute_result"
    }
   ],
   "source": [
    "clf.predict([[288.5]])"
   ]
  }
 ],
 "metadata": {
  "kernelspec": {
   "display_name": "Python 3",
   "language": "python",
   "name": "python3"
  },
  "language_info": {
   "codemirror_mode": {
    "name": "ipython",
    "version": 3
   },
   "file_extension": ".py",
   "mimetype": "text/x-python",
   "name": "python",
   "nbconvert_exporter": "python",
   "pygments_lexer": "ipython3",
   "version": "3.9.5"
  }
 },
 "nbformat": 4,
 "nbformat_minor": 5
}
